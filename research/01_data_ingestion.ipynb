{
 "cells": [
  {
   "cell_type": "code",
   "execution_count": 1,
   "metadata": {},
   "outputs": [],
   "source": [
    "import os"
   ]
  },
  {
   "cell_type": "code",
   "execution_count": 2,
   "metadata": {},
   "outputs": [
    {
     "data": {
      "text/plain": [
       "'c:\\\\Users\\\\DELL\\\\Documents\\\\Data Science\\\\Projects\\\\Chicken_Disease_Classification\\\\research'"
      ]
     },
     "execution_count": 2,
     "metadata": {},
     "output_type": "execute_result"
    }
   ],
   "source": [
    "%pwd"
   ]
  },
  {
   "cell_type": "code",
   "execution_count": 3,
   "metadata": {},
   "outputs": [],
   "source": [
    "os.chdir(\"../\")"
   ]
  },
  {
   "cell_type": "code",
   "execution_count": 4,
   "metadata": {},
   "outputs": [
    {
     "data": {
      "text/plain": [
       "'c:\\\\Users\\\\DELL\\\\Documents\\\\Data Science\\\\Projects\\\\Chicken_Disease_Classification'"
      ]
     },
     "execution_count": 4,
     "metadata": {},
     "output_type": "execute_result"
    }
   ],
   "source": [
    "%pwd"
   ]
  },
  {
   "cell_type": "code",
   "execution_count": 5,
   "metadata": {},
   "outputs": [],
   "source": [
    "from dataclasses import dataclass\n",
    "from pathlib import Path\n",
    "\n",
    "\n",
    "@dataclass(frozen=True)\n",
    "class DataIngestionConfig:\n",
    "    root_dir: Path\n",
    "    source_URL: str\n",
    "    local_data_file: Path\n",
    "    unzip_dir: Path\n",
    "    train_data_dir: Path\n",
    "    test_data_dir: Path"
   ]
  },
  {
   "cell_type": "code",
   "execution_count": 6,
   "metadata": {},
   "outputs": [],
   "source": [
    "from cnnClassifier.constants import *\n",
    "from cnnClassifier.utils.common import read_yaml, create_directories"
   ]
  },
  {
   "cell_type": "code",
   "execution_count": 7,
   "metadata": {},
   "outputs": [],
   "source": [
    "# It sets the configuration for data ingestion so that we can specify the download url, \n",
    "# local download folder and file\n",
    "class ConfigurationManager:\n",
    "    def __init__(\n",
    "        self,\n",
    "        config_filepath = CONFIG_FILE_PATH,\n",
    "        params_filepath = PARAMS_FILE_PATH):\n",
    "\n",
    "        self.config = read_yaml(config_filepath)\n",
    "        self.params = read_yaml(params_filepath)\n",
    "\n",
    "        create_directories([self.config.artifacts_root])\n",
    "\n",
    "\n",
    "    \n",
    "    def get_data_ingestion_config(self) -> DataIngestionConfig:\n",
    "        config = self.config.data_ingestion\n",
    "\n",
    "        create_directories([config.root_dir])\n",
    "\n",
    "        data_ingestion_config = DataIngestionConfig(\n",
    "            root_dir=config.root_dir,\n",
    "            source_URL=config.source_URL,\n",
    "            local_data_file=config.local_data_file,\n",
    "            unzip_dir=config.unzip_dir,\n",
    "            train_data_dir=config.train_data_dir,\n",
    "            test_data_dir=config.test_data_dir\n",
    "        )\n",
    "\n",
    "        return data_ingestion_config\n",
    "      "
   ]
  },
  {
   "cell_type": "code",
   "execution_count": 8,
   "metadata": {},
   "outputs": [],
   "source": [
    "import os\n",
    "import gdown \n",
    "import urllib.request as request\n",
    "import zipfile\n",
    "import shutil\n",
    "from cnnClassifier import logger\n",
    "from cnnClassifier.utils.common import get_size\n",
    "from sklearn.model_selection import train_test_split"
   ]
  },
  {
   "cell_type": "code",
   "execution_count": 17,
   "metadata": {},
   "outputs": [],
   "source": [
    "# Updating the components\n",
    "\n",
    "class DataIngestion:\n",
    "    def __init__(self, config: DataIngestionConfig):\n",
    "        self.config = config\n",
    "\n",
    "\n",
    "    \n",
    "    def download_file(self):\n",
    "        if not os.path.exists(self.config.local_data_file):\n",
    "            filename, headers = request.urlretrieve(\n",
    "                url = self.config.source_URL,\n",
    "                filename = self.config.local_data_file\n",
    "            )\n",
    "            logger.info(f\"{filename} downloaded! with following info: \\n{headers}\")\n",
    "        else:\n",
    "            logger.info(f\"File already exists of size: {get_size(Path(self.config.local_data_file))}\")  \n",
    "\n",
    "    def download_file_from_gdrive(self):\n",
    "        if not os.path.exists(self.config.local_data_file):\n",
    "            filename = gdown.download(\n",
    "                url = self.config.source_URL,\n",
    "                output = self.config.local_data_file,\n",
    "                quiet=False,\n",
    "                fuzzy=True\n",
    "            )\n",
    "            logger.info(f\"{filename} downloaded!\")\n",
    "        else:\n",
    "            logger.info(f\"File already exists of size: {get_size(Path(self.config.local_data_file))}\") \n",
    "    \n",
    "    def extract_zip_file(self):\n",
    "        \"\"\"\n",
    "        zip_file_path: str\n",
    "        Extracts the zip file into the data directory\n",
    "        Function returns None\n",
    "        \"\"\"\n",
    "        unzip_path = self.config.unzip_dir\n",
    "        os.makedirs(unzip_path, exist_ok=True)\n",
    "        with zipfile.ZipFile(self.config.local_data_file, 'r') as zip_ref:\n",
    "            zip_ref.extractall(unzip_path)\n",
    "\n",
    "\n",
    "    def extract_and_split_data(self):\n",
    "        # Define paths for temporary extraction and final destination\n",
    "        temp_extr_dir = os.path.join(self.config.unzip_dir, 'temp_dir')\n",
    "        train_data_path = self.config.train_data_dir\n",
    "        test_data_path = self.config.test_data_dir\n",
    "\n",
    "        # Create temporary extraction folder\n",
    "        os.makedirs(temp_extr_dir, exist_ok=True)\n",
    "\n",
    "        # Extract the zip file to the temporary extraction folder\n",
    "        with zipfile.ZipFile(self.config.local_data_file, 'r') as zip_ref:\n",
    "            zip_ref.extractall(temp_extr_dir)\n",
    "\n",
    "        # Get the list of files in the temporary extraction folder (including subdirectories)\n",
    "        file_list = []\n",
    "        for root, _, files in os.walk(temp_extr_dir):\n",
    "            for file in files:\n",
    "                file_list.append(os.path.join(root, file))\n",
    "\n",
    "        # Extract class information from file paths\n",
    "        classes = [os.path.basename(os.path.dirname(file)) for file in file_list]\n",
    "        print(classes)\n",
    "        \n",
    "        # Split files into train and test sets\n",
    "        train_files, test_files = train_test_split(file_list, test_size=0.2, random_state=0, stratify=classes)\n",
    "                                            \n",
    "\n",
    "        # Create train and test data folders\n",
    "        os.makedirs(train_data_path, exist_ok=True)\n",
    "        os.makedirs(test_data_path, exist_ok=True)\n",
    "\n",
    "        # Extract files into train and test folders\n",
    "        for files, dest_path in zip([train_files, test_files], [train_data_path, test_data_path]):\n",
    "            for file in files:\n",
    "                class_folder = os.path.basename(os.path.dirname(file))\n",
    "                dest_folder = os.path.join(dest_path, class_folder)\n",
    "\n",
    "                # Create the destination folder if it doesn't exist\n",
    "                os.makedirs(dest_folder, exist_ok=True)\n",
    "\n",
    "                dest_file_path = os.path.join(dest_folder, os.path.basename(file))\n",
    "                shutil.copy2(file, dest_file_path)  # Using shutil.copy2 to preserve file metadata\n",
    "\n",
    "        # Delete the temporary extraction folder\n",
    "        shutil.rmtree(temp_extr_dir)\n",
    "                        "
   ]
  },
  {
   "cell_type": "code",
   "execution_count": 18,
   "metadata": {},
   "outputs": [
    {
     "name": "stdout",
     "output_type": "stream",
     "text": [
      "[2023-12-03 20:29:07,694: INFO: common: yaml file: config\\config.yaml loaded successfully]\n",
      "[2023-12-03 20:29:07,700: INFO: common: yaml file: params.yaml loaded successfully]\n",
      "[2023-12-03 20:29:07,703: INFO: common: created directory at: artifacts]\n",
      "[2023-12-03 20:29:07,706: INFO: common: created directory at: artifacts/data_ingestion]\n",
      "[2023-12-03 20:29:07,709: INFO: 547603163: File already exists of size: ~ 707925 KB]\n"
     ]
    },
    {
     "name": "stdout",
     "output_type": "stream",
     "text": [
      "['Coccidiosis', 'Coccidiosis', 'Coccidiosis', 'Coccidiosis', 'Coccidiosis', 'Coccidiosis', 'Coccidiosis', 'Coccidiosis', 'Coccidiosis', 'Coccidiosis', 'Coccidiosis', 'Coccidiosis', 'Coccidiosis', 'Coccidiosis', 'Coccidiosis', 'Coccidiosis', 'Coccidiosis', 'Coccidiosis', 'Coccidiosis', 'Coccidiosis', 'Coccidiosis', 'Coccidiosis', 'Coccidiosis', 'Coccidiosis', 'Coccidiosis', 'Coccidiosis', 'Coccidiosis', 'Coccidiosis', 'Coccidiosis', 'Coccidiosis', 'Coccidiosis', 'Coccidiosis', 'Coccidiosis', 'Coccidiosis', 'Coccidiosis', 'Coccidiosis', 'Coccidiosis', 'Coccidiosis', 'Coccidiosis', 'Coccidiosis', 'Coccidiosis', 'Coccidiosis', 'Coccidiosis', 'Coccidiosis', 'Coccidiosis', 'Coccidiosis', 'Coccidiosis', 'Coccidiosis', 'Coccidiosis', 'Coccidiosis', 'Coccidiosis', 'Coccidiosis', 'Coccidiosis', 'Coccidiosis', 'Coccidiosis', 'Coccidiosis', 'Coccidiosis', 'Coccidiosis', 'Coccidiosis', 'Coccidiosis', 'Coccidiosis', 'Coccidiosis', 'Coccidiosis', 'Coccidiosis', 'Coccidiosis', 'Coccidiosis', 'Coccidiosis', 'Coccidiosis', 'Coccidiosis', 'Coccidiosis', 'Coccidiosis', 'Coccidiosis', 'Coccidiosis', 'Coccidiosis', 'Coccidiosis', 'Coccidiosis', 'Coccidiosis', 'Coccidiosis', 'Coccidiosis', 'Coccidiosis', 'Coccidiosis', 'Coccidiosis', 'Coccidiosis', 'Coccidiosis', 'Coccidiosis', 'Coccidiosis', 'Coccidiosis', 'Coccidiosis', 'Coccidiosis', 'Coccidiosis', 'Coccidiosis', 'Coccidiosis', 'Coccidiosis', 'Coccidiosis', 'Coccidiosis', 'Coccidiosis', 'Coccidiosis', 'Coccidiosis', 'Coccidiosis', 'Coccidiosis', 'Coccidiosis', 'Coccidiosis', 'Coccidiosis', 'Coccidiosis', 'Coccidiosis', 'Coccidiosis', 'Coccidiosis', 'Coccidiosis', 'Coccidiosis', 'Coccidiosis', 'Coccidiosis', 'Coccidiosis', 'Coccidiosis', 'Coccidiosis', 'Coccidiosis', 'Coccidiosis', 'Coccidiosis', 'Coccidiosis', 'Coccidiosis', 'Coccidiosis', 'Coccidiosis', 'Coccidiosis', 'Coccidiosis', 'Coccidiosis', 'Coccidiosis', 'Coccidiosis', 'Coccidiosis', 'Coccidiosis', 'Coccidiosis', 'Coccidiosis', 'Coccidiosis', 'Coccidiosis', 'Coccidiosis', 'Coccidiosis', 'Coccidiosis', 'Coccidiosis', 'Coccidiosis', 'Coccidiosis', 'Coccidiosis', 'Coccidiosis', 'Coccidiosis', 'Coccidiosis', 'Coccidiosis', 'Coccidiosis', 'Coccidiosis', 'Coccidiosis', 'Coccidiosis', 'Coccidiosis', 'Coccidiosis', 'Coccidiosis', 'Coccidiosis', 'Coccidiosis', 'Coccidiosis', 'Coccidiosis', 'Coccidiosis', 'Coccidiosis', 'Coccidiosis', 'Coccidiosis', 'Coccidiosis', 'Coccidiosis', 'Coccidiosis', 'Coccidiosis', 'Coccidiosis', 'Coccidiosis', 'Coccidiosis', 'Coccidiosis', 'Coccidiosis', 'Coccidiosis', 'Coccidiosis', 'Coccidiosis', 'Coccidiosis', 'Coccidiosis', 'Coccidiosis', 'Coccidiosis', 'Coccidiosis', 'Coccidiosis', 'Coccidiosis', 'Coccidiosis', 'Coccidiosis', 'Coccidiosis', 'Coccidiosis', 'Coccidiosis', 'Coccidiosis', 'Coccidiosis', 'Coccidiosis', 'Coccidiosis', 'Coccidiosis', 'Coccidiosis', 'Coccidiosis', 'Coccidiosis', 'Coccidiosis', 'Coccidiosis', 'Coccidiosis', 'Coccidiosis', 'Coccidiosis', 'Coccidiosis', 'Coccidiosis', 'Coccidiosis', 'Coccidiosis', 'Coccidiosis', 'Coccidiosis', 'Coccidiosis', 'Coccidiosis', 'Coccidiosis', 'Coccidiosis', 'Coccidiosis', 'Coccidiosis', 'Coccidiosis', 'Coccidiosis', 'Coccidiosis', 'Coccidiosis', 'Coccidiosis', 'Coccidiosis', 'Coccidiosis', 'Coccidiosis', 'Coccidiosis', 'Coccidiosis', 'Coccidiosis', 'Coccidiosis', 'Coccidiosis', 'Coccidiosis', 'Coccidiosis', 'Coccidiosis', 'Coccidiosis', 'Coccidiosis', 'Coccidiosis', 'Coccidiosis', 'Coccidiosis', 'Coccidiosis', 'Coccidiosis', 'Coccidiosis', 'Coccidiosis', 'Coccidiosis', 'Coccidiosis', 'Coccidiosis', 'Coccidiosis', 'Coccidiosis', 'Coccidiosis', 'Coccidiosis', 'Coccidiosis', 'Coccidiosis', 'Coccidiosis', 'Coccidiosis', 'Coccidiosis', 'Coccidiosis', 'Coccidiosis', 'Coccidiosis', 'Coccidiosis', 'Coccidiosis', 'Coccidiosis', 'Coccidiosis', 'Coccidiosis', 'Coccidiosis', 'Coccidiosis', 'Coccidiosis', 'Coccidiosis', 'Coccidiosis', 'Coccidiosis', 'Coccidiosis', 'Coccidiosis', 'Coccidiosis', 'Coccidiosis', 'Coccidiosis', 'Coccidiosis', 'Coccidiosis', 'Coccidiosis', 'Coccidiosis', 'Coccidiosis', 'Coccidiosis', 'Coccidiosis', 'Coccidiosis', 'Coccidiosis', 'Coccidiosis', 'Coccidiosis', 'Coccidiosis', 'Coccidiosis', 'Coccidiosis', 'Coccidiosis', 'Coccidiosis', 'Coccidiosis', 'Coccidiosis', 'Coccidiosis', 'Coccidiosis', 'Coccidiosis', 'Coccidiosis', 'Coccidiosis', 'Coccidiosis', 'Coccidiosis', 'Coccidiosis', 'Coccidiosis', 'Coccidiosis', 'Coccidiosis', 'Coccidiosis', 'Coccidiosis', 'Coccidiosis', 'Coccidiosis', 'Coccidiosis', 'Coccidiosis', 'Coccidiosis', 'Coccidiosis', 'Healthy', 'Healthy', 'Healthy', 'Healthy', 'Healthy', 'Healthy', 'Healthy', 'Healthy', 'Healthy', 'Healthy', 'Healthy', 'Healthy', 'Healthy', 'Healthy', 'Healthy', 'Healthy', 'Healthy', 'Healthy', 'Healthy', 'Healthy', 'Healthy', 'Healthy', 'Healthy', 'Healthy', 'Healthy', 'Healthy', 'Healthy', 'Healthy', 'Healthy', 'Healthy', 'Healthy', 'Healthy', 'Healthy', 'Healthy', 'Healthy', 'Healthy', 'Healthy', 'Healthy', 'Healthy', 'Healthy', 'Healthy', 'Healthy', 'Healthy', 'Healthy', 'Healthy', 'Healthy', 'Healthy', 'Healthy', 'Healthy', 'Healthy', 'Healthy', 'Healthy', 'Healthy', 'Healthy', 'Healthy', 'Healthy', 'Healthy', 'Healthy', 'Healthy', 'Healthy', 'Healthy', 'Healthy', 'Healthy', 'Healthy', 'Healthy', 'Healthy', 'Healthy', 'Healthy', 'Healthy', 'Healthy', 'Healthy', 'Healthy', 'Healthy', 'Healthy', 'Healthy', 'Healthy', 'Healthy', 'Healthy', 'Healthy', 'Healthy', 'Healthy', 'Healthy', 'Healthy', 'Healthy', 'Healthy', 'Healthy', 'Healthy', 'Healthy', 'Healthy', 'Healthy', 'Healthy', 'Healthy', 'Healthy', 'Healthy', 'Healthy', 'Healthy', 'Healthy', 'Healthy', 'Healthy', 'Healthy', 'Healthy', 'Healthy', 'Healthy', 'Healthy', 'Healthy', 'Healthy', 'Healthy', 'Healthy', 'Healthy', 'Healthy', 'Healthy', 'Healthy', 'Healthy', 'Healthy', 'Healthy', 'Healthy', 'Healthy', 'Healthy', 'Healthy', 'Healthy', 'Healthy', 'Healthy', 'Healthy', 'Healthy', 'Healthy', 'Healthy', 'Healthy', 'Healthy', 'Healthy', 'Healthy', 'Healthy', 'Healthy', 'Healthy', 'Healthy', 'Healthy', 'Healthy', 'Healthy', 'Healthy', 'Healthy', 'Healthy', 'Healthy', 'Healthy', 'Healthy', 'Healthy', 'Healthy', 'Healthy', 'Healthy', 'Healthy', 'Healthy', 'Healthy', 'Healthy', 'Healthy', 'Healthy', 'Healthy', 'Healthy', 'Healthy', 'Healthy', 'Healthy', 'Healthy', 'Healthy', 'Healthy', 'Healthy', 'Healthy', 'Healthy', 'Healthy', 'Healthy', 'Healthy', 'Healthy', 'Healthy', 'Healthy', 'Healthy', 'Healthy', 'Healthy', 'Healthy', 'Healthy', 'Healthy', 'Healthy', 'Healthy', 'Healthy', 'Healthy', 'Healthy', 'Healthy', 'Healthy', 'Healthy', 'Healthy', 'Healthy', 'Healthy', 'Healthy', 'Healthy', 'Healthy', 'Healthy', 'Healthy', 'Healthy', 'Healthy', 'Healthy', 'Healthy', 'Healthy', 'Healthy', 'Healthy', 'Healthy', 'Healthy', 'Healthy', 'Healthy', 'Healthy', 'Healthy', 'Healthy', 'Healthy', 'Healthy', 'Healthy', 'Healthy', 'Healthy', 'Healthy', 'Healthy', 'Healthy', 'Healthy', 'Healthy', 'Healthy', 'Healthy', 'Healthy', 'Healthy', 'Healthy', 'Healthy', 'Healthy', 'Healthy', 'Healthy', 'Healthy', 'Healthy', 'Healthy', 'Healthy', 'Healthy', 'Healthy', 'Healthy', 'Healthy', 'Healthy', 'Healthy', 'Healthy', 'Healthy', 'Healthy', 'Healthy', 'Healthy', 'Healthy', 'Healthy', 'Healthy', 'Healthy', 'Healthy', 'Healthy', 'Healthy', 'Healthy', 'Healthy', 'Healthy', 'Healthy', 'Healthy', 'Healthy', 'Healthy', 'Healthy', 'Healthy', 'Healthy', 'Healthy', 'Healthy', 'Healthy', 'Healthy', 'Healthy', 'Healthy', 'Healthy', 'Healthy', 'Healthy', 'Healthy', 'Healthy', 'Healthy', 'Healthy', 'Healthy', 'Healthy', 'Healthy', 'Healthy', 'Healthy', 'Healthy', 'Healthy', 'Healthy', 'Healthy', 'Healthy', 'Healthy', 'Healthy', 'Healthy', 'Healthy', 'Healthy', 'Healthy', 'Healthy', 'Healthy', 'Healthy', 'Healthy', 'Healthy', 'Healthy', 'Healthy', 'Healthy', 'Healthy', 'Healthy', 'Healthy', 'Healthy', 'Healthy', 'Healthy']\n"
     ]
    }
   ],
   "source": [
    "# Updating the pipeline\n",
    "try:\n",
    "    config = ConfigurationManager()\n",
    "    data_ingestion_config = config.get_data_ingestion_config()\n",
    "    data_ingestion = DataIngestion(config=data_ingestion_config)\n",
    "    data_ingestion.download_file_from_gdrive()\n",
    "    data_ingestion.extract_and_split_data()\n",
    "except Exception as e:\n",
    "    raise e"
   ]
  },
  {
   "cell_type": "code",
   "execution_count": null,
   "metadata": {},
   "outputs": [],
   "source": []
  }
 ],
 "metadata": {
  "kernelspec": {
   "display_name": "chicken",
   "language": "python",
   "name": "python3"
  },
  "language_info": {
   "codemirror_mode": {
    "name": "ipython",
    "version": 3
   },
   "file_extension": ".py",
   "mimetype": "text/x-python",
   "name": "python",
   "nbconvert_exporter": "python",
   "pygments_lexer": "ipython3",
   "version": "3.10.13"
  },
  "orig_nbformat": 4
 },
 "nbformat": 4,
 "nbformat_minor": 2
}
